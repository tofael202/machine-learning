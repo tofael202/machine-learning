{
  "nbformat": 4,
  "nbformat_minor": 0,
  "metadata": {
    "colab": {
      "name": "knn-regression-tofael.ipynb",
      "provenance": [],
      "collapsed_sections": [],
      "authorship_tag": "ABX9TyP5yd0Ns57bXBMaQXLAtPqK",
      "include_colab_link": true
    },
    "kernelspec": {
      "name": "python3",
      "display_name": "Python 3"
    }
  },
  "cells": [
    {
      "cell_type": "markdown",
      "metadata": {
        "id": "view-in-github",
        "colab_type": "text"
      },
      "source": [
        "<a href=\"https://colab.research.google.com/github/tofael202/machine-learning/blob/main/knn_regression_tofael.ipynb\" target=\"_parent\"><img src=\"https://colab.research.google.com/assets/colab-badge.svg\" alt=\"Open In Colab\"/></a>"
      ]
    },
    {
      "cell_type": "code",
      "metadata": {
        "id": "ESIzfBnodTDK"
      },
      "source": [
        "from google.colab import drive\n",
        "drive.mount('/content/gdrive')"
      ],
      "execution_count": null,
      "outputs": []
    },
    {
      "cell_type": "code",
      "metadata": {
        "id": "8K0sm89heRtb"
      },
      "source": [
        "from numpy import genfromtxt\n",
        "import numpy as np \n",
        "data_path = '/content/gdrive/MyDrive/ai/diabetes.csv'\n",
        "my_data = genfromtxt(data_path, delimiter=',')"
      ],
      "execution_count": null,
      "outputs": []
    },
    {
      "cell_type": "code",
      "metadata": {
        "colab": {
          "base_uri": "https://localhost:8080/"
        },
        "id": "istINAome_BV",
        "outputId": "5ff36f3b-5fcb-46ad-e54d-557f119a6e26"
      },
      "source": [
        "#my_data.shape\n",
        "type(my_data)#my_data.shape"
      ],
      "execution_count": null,
      "outputs": [
        {
          "output_type": "execute_result",
          "data": {
            "text/plain": [
              "numpy.ndarray"
            ]
          },
          "metadata": {
            "tags": []
          },
          "execution_count": 3
        }
      ]
    },
    {
      "cell_type": "code",
      "metadata": {
        "colab": {
          "base_uri": "https://localhost:8080/"
        },
        "id": "NETFppSafGJ_",
        "outputId": "37f9ebca-a6a2-4be9-c2d1-983cc7315fe5"
      },
      "source": [
        "data = my_data.tolist()\n",
        "for i in range(5):\n",
        "  print(data[i])\n",
        "print(type(data))\n",
        "print(len(data))"
      ],
      "execution_count": null,
      "outputs": [
        {
          "output_type": "stream",
          "text": [
            "[0.0380759064334241, 0.0506801187398187, 0.0616962065186885, 0.0218723549949558, -0.0442234984244464, -0.0348207628376986, -0.0434008456520269, -0.00259226199818282, 0.0199084208763183, -0.0176461251598052, 151.0]\n",
            "[-0.00188201652779104, -0.044641636506989, -0.0514740612388061, -0.0263278347173518, -0.00844872411121698, -0.019163339748222, 0.0744115640787594, -0.0394933828740919, -0.0683297436244215, -0.09220404962683, 75.0]\n",
            "[0.0852989062966783, 0.0506801187398187, 0.0444512133365941, -0.00567061055493425, -0.0455994512826475, -0.0341944659141195, -0.0323559322397657, -0.00259226199818282, 0.00286377051894013, -0.0259303389894746, 141.0]\n",
            "[-0.0890629393522603, -0.044641636506989, -0.0115950145052127, -0.0366564467985606, 0.0121905687618, 0.0249905933641021, -0.0360375700438527, 0.0343088588777263, 0.0226920225667445, -0.0093619113301358, 206.0]\n",
            "[0.00538306037424807, -0.044641636506989, -0.0363846922044735, 0.0218723549949558, 0.00393485161259318, 0.0155961395104161, 0.0081420836051921, -0.00259226199818282, -0.0319914449413559, -0.0466408735636482, 135.0]\n",
            "<class 'list'>\n",
            "442\n"
          ],
          "name": "stdout"
        }
      ]
    },
    {
      "cell_type": "code",
      "metadata": {
        "id": "ZW982ocvfM3B"
      },
      "source": [
        "np.random.shuffle(data)\n",
        "from numpy import random"
      ],
      "execution_count": null,
      "outputs": []
    },
    {
      "cell_type": "code",
      "metadata": {
        "id": "mDCnXWNofsF9"
      },
      "source": [
        ""
      ],
      "execution_count": null,
      "outputs": []
    },
    {
      "cell_type": "code",
      "metadata": {
        "id": "Ko5-Ky0afRpE"
      },
      "source": [
        "for i in range(5):\n",
        "  print(data[i])\n",
        "\n",
        "print(data)"
      ],
      "execution_count": null,
      "outputs": []
    },
    {
      "cell_type": "code",
      "metadata": {
        "id": "h5ySj0AxftGo"
      },
      "source": [
        "Train_set=[]\n",
        "Val_set=[]\n",
        "Test_set=[]"
      ],
      "execution_count": null,
      "outputs": []
    },
    {
      "cell_type": "code",
      "metadata": {
        "id": "Q34UaGYnfyXJ"
      },
      "source": [
        "for S in data:\n",
        " R= random.rand()\n",
        " if R>=0 and R<=0.7:\n",
        "\t\tTrain_set.append(S)\n",
        " elif R>0.7 and R<=0.85:\n",
        "\t\tVal_set.append(S)\n",
        " else:\n",
        "\t\tTest_set.append(S)  "
      ],
      "execution_count": null,
      "outputs": []
    },
    {
      "cell_type": "code",
      "metadata": {
        "colab": {
          "base_uri": "https://localhost:8080/"
        },
        "id": "wxhzBdKjf1q5",
        "outputId": "60351db9-f944-4aae-f986-1fe111f8977f"
      },
      "source": [
        "print(len(Train_set))\n",
        "print(len(Val_set))\n",
        "print(len(Test_set))"
      ],
      "execution_count": null,
      "outputs": [
        {
          "output_type": "stream",
          "text": [
            "305\n",
            "72\n",
            "65\n"
          ],
          "name": "stdout"
        }
      ]
    },
    {
      "cell_type": "code",
      "metadata": {
        "id": "uVIDY3NRrHu4"
      },
      "source": [
        "k=31\n",
        "error=0\n",
        "for v in Val_set:\n",
        "  L=[]\n",
        "  \n",
        "  \n",
        "  for t in Train_set:\n",
        "    vx=np.array(v[0:10])\n",
        "    tx=np.array(t[0:10])\n",
        "    dist=np.sqrt(np.sum((vx - tx) ** 2))\n",
        "    #print(dist)\n",
        "    L.append((t,dist)) \n",
        "  #print(L)  \n",
        "  L.sort(key=lambda tup: tup[1]) \n",
        "  #print(L)\n",
        "  neig = list(np.array(L)[:k,0])\n",
        "  #print(neig)\n",
        "  kl=[]\n",
        "  \n",
        "  for i in range(len(neig)):\n",
        "    kl.append(neig[i][10])\n",
        "  #print(kl)\n",
        "  #print(v[len(v)-1])\n",
        "  average = sum(kl) / len(kl)\n",
        "  #print(average,v[len(v)-1])\n",
        "  d=v[len(v)-1]- average\n",
        "  #print(d)\n",
        "  r=pow(d,2)\n",
        "  #print(r)\n",
        "  #print(error)\n",
        "  error = error + r\n",
        "\n",
        "Mean_Squared_Error = error/(len(Val_set))\n",
        "print(Mean_Squared_Error)"
      ],
      "execution_count": null,
      "outputs": []
    },
    {
      "cell_type": "code",
      "metadata": {
        "id": "A9K5nTPHXwxt"
      },
      "source": [
        "k=25\n",
        "error=0\n",
        "for v in Test_set:\n",
        "  L=[]\n",
        "  \n",
        "  \n",
        "  for t in Train_set:\n",
        "    vx=np.array(v[0:10])\n",
        "    tx=np.array(t[0:10])\n",
        "    dist=np.sqrt(np.sum((vx - tx) ** 2))\n",
        "    #print(dist)\n",
        "    L.append((t,dist)) \n",
        "  #print(L)  \n",
        "  L.sort(key=lambda tup: tup[1]) \n",
        "  #print(L)\n",
        "  neig = list(np.array(L)[:k,0])\n",
        "  #print(neig)\n",
        "  kl=[]\n",
        "  \n",
        "  for i in range(len(neig)):\n",
        "    kl.append(neig[i][10])\n",
        "  #print(kl)\n",
        "  #print(v[len(v)-1])\n",
        "  average = sum(kl) / len(kl)\n",
        "  #print(average,v[len(v)-1])\n",
        "  d=v[len(v)-1]- average\n",
        "  #print(d)\n",
        "  r=pow(d,2)\n",
        "  #print(r)\n",
        "  #print(error)\n",
        "  error = error + r\n",
        "\n",
        "Mean_Squared_Error = error/(len(Test_set))\n",
        "print(Mean_Squared_Error)"
      ],
      "execution_count": null,
      "outputs": []
    },
    {
      "cell_type": "code",
      "metadata": {
        "colab": {
          "base_uri": "https://localhost:8080/"
        },
        "id": "yQNShnleYPmh",
        "outputId": "a3969684-b35d-410a-994b-fdebe1b548a3"
      },
      "source": [
        "from google.colab import drive\n",
        "drive.mount('/content/gdrive')\n",
        "\n",
        "from numpy import genfromtxt\n",
        "import numpy as np \n",
        "from numpy import random\n",
        "data_path = '/content/gdrive/MyDrive/ai/diabetes.csv'\n",
        "my_data = genfromtxt(data_path, delimiter=',')\n",
        "\n",
        "data = my_data.tolist() #convert numpy array to a list\n",
        "\n",
        "np.random.shuffle(data)  #shuffle the list\n",
        "\n",
        "Train_set=[]\n",
        "Val_set=[]\n",
        "Test_set=[]\n",
        "#spilting data into 3 list training set 70 percent, validation 15 percent and rest other for test perpose\n",
        "for S in data:\n",
        " R= random.rand() # generate a random number between 0 and 1 for each data\n",
        " if R>=0 and R<=0.7:\n",
        "\t\tTrain_set.append(S)\n",
        " elif R>0.7 and R<=0.85:\n",
        "\t\tVal_set.append(S)\n",
        " else:\n",
        "\t\tTest_set.append(S)  \n",
        "\n",
        " #KNN regression for validation set\n",
        "\n",
        "k=25 # K number NEAREST NEIGHBOURS\n",
        "error=0\n",
        "Mean_Squared_Error=0\n",
        "for v in Val_set:\n",
        "  L=[] #list\n",
        "  \n",
        "  \n",
        "  for t in Train_set:\n",
        "    vx=np.array(v[0:10]) #taking the features only first 10 cell\n",
        "    tx=np.array(t[0:10])\n",
        "    dist=np.sqrt(np.sum((vx - tx) ** 2)) # eucludian distance between vx and tx\n",
        "    L.append((t,dist)) #append each T value and and its distance with v in list\n",
        "    \n",
        "  L.sort(key=lambda tup: tup[1]) # short in ascending order by distance and tup for indx which is distance in list\n",
        "  neig = list(np.array(L)[:k,0]) #taking first K number value in a list from L list. No distance value in list\n",
        "  kl=[]\n",
        "  #loop for taking the value of output row in a list\n",
        "  for i in range(len(neig)):\n",
        "    kl.append(neig[i][10])\n",
        "  average = sum(kl) / len(kl) #finding average\n",
        "  d=v[len(v)-1]- average  #differnce between actual value and average value\n",
        "  r=pow(d,2) #square \n",
        "  error = error + r\n",
        "\n",
        "Mean_Squared_Error = error/(len(Val_set))\n",
        "print(\"validation error \",Mean_Squared_Error)\n",
        "\n",
        "#test_set\n",
        "\n",
        "k=25\n",
        "error=0\n",
        "Mean_Squared_Error=0\n",
        "for v in Test_set:\n",
        "  L=[]\n",
        "  for t in Train_set:\n",
        "    vx=np.array(v[0:10])\n",
        "    tx=np.array(t[0:10])\n",
        "    dist=np.sqrt(np.sum((vx - tx) ** 2))\n",
        "    L.append((t,dist)) \n",
        "  L.sort(key=lambda tup: tup[1]) \n",
        "  neig = list(np.array(L)[:k,0])\n",
        "  kl=[]\n",
        "  \n",
        "  for i in range(len(neig)):\n",
        "    kl.append(neig[i][10])\n",
        "  average = sum(kl) / len(kl)\n",
        "  d=v[len(v)-1]- average\n",
        "  r=pow(d,2)\n",
        "  error = error + r\n",
        "\n",
        "Mean_Squared_Error = error/(len(Test_set))\n",
        "print(\"Test error \",Mean_Squared_Error)"
      ],
      "execution_count": null,
      "outputs": [
        {
          "output_type": "stream",
          "text": [
            "Drive already mounted at /content/gdrive; to attempt to forcibly remount, call drive.mount(\"/content/gdrive\", force_remount=True).\n"
          ],
          "name": "stdout"
        },
        {
          "output_type": "stream",
          "text": [
            "/usr/local/lib/python3.6/dist-packages/ipykernel_launcher.py:43: VisibleDeprecationWarning: Creating an ndarray from ragged nested sequences (which is a list-or-tuple of lists-or-tuples-or ndarrays with different lengths or shapes) is deprecated. If you meant to do this, you must specify 'dtype=object' when creating the ndarray\n",
            "/usr/local/lib/python3.6/dist-packages/ipykernel_launcher.py:69: VisibleDeprecationWarning: Creating an ndarray from ragged nested sequences (which is a list-or-tuple of lists-or-tuples-or ndarrays with different lengths or shapes) is deprecated. If you meant to do this, you must specify 'dtype=object' when creating the ndarray\n"
          ],
          "name": "stderr"
        },
        {
          "output_type": "stream",
          "text": [
            "validation error  3234.2671573333328\n",
            "Test error  2884.34068405797\n"
          ],
          "name": "stdout"
        }
      ]
    }
  ]
}