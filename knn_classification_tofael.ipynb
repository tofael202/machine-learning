{
  "nbformat": 4,
  "nbformat_minor": 0,
  "metadata": {
    "colab": {
      "name": "knn-classification-tofael",
      "provenance": [],
      "collapsed_sections": [],
      "authorship_tag": "ABX9TyMfCGZGQUsr2/x3+vjm3RDn",
      "include_colab_link": true
    },
    "kernelspec": {
      "name": "python3",
      "display_name": "Python 3"
    }
  },
  "cells": [
    {
      "cell_type": "markdown",
      "metadata": {
        "id": "view-in-github",
        "colab_type": "text"
      },
      "source": [
        "<a href=\"https://colab.research.google.com/github/tofael202/machine-learning/blob/main/knn_classification_tofael.ipynb\" target=\"_parent\"><img src=\"https://colab.research.google.com/assets/colab-badge.svg\" alt=\"Open In Colab\"/></a>"
      ]
    },
    {
      "cell_type": "code",
      "metadata": {
        "colab": {
          "base_uri": "https://localhost:8080/"
        },
        "id": "swPWjCsB-VDl",
        "outputId": "9144be65-b1d0-445a-a358-44faa0cd45f3"
      },
      "source": [
        "from google.colab import drive\n",
        "drive.mount('/content/gdrive')"
      ],
      "execution_count": 1,
      "outputs": [
        {
          "output_type": "stream",
          "text": [
            "Mounted at /content/gdrive\n"
          ],
          "name": "stdout"
        }
      ]
    },
    {
      "cell_type": "code",
      "metadata": {
        "id": "n51PIG5Y-d3h"
      },
      "source": [
        "from numpy import genfromtxt\n",
        "import numpy as np \n",
        "data_path = '/content/gdrive/MyDrive/ai/iris.csv'\n",
        "my_data = genfromtxt(data_path, delimiter=',')"
      ],
      "execution_count": 2,
      "outputs": []
    },
    {
      "cell_type": "code",
      "metadata": {
        "colab": {
          "base_uri": "https://localhost:8080/"
        },
        "id": "nnC58ehJ-gJR",
        "outputId": "ae508d06-3649-4822-84bb-4863959dea89"
      },
      "source": [
        "#my_data.shape\n",
        "type(my_data)#my_data.shape\n"
      ],
      "execution_count": 74,
      "outputs": [
        {
          "output_type": "execute_result",
          "data": {
            "text/plain": [
              "numpy.ndarray"
            ]
          },
          "metadata": {
            "tags": []
          },
          "execution_count": 74
        }
      ]
    },
    {
      "cell_type": "code",
      "metadata": {
        "colab": {
          "base_uri": "https://localhost:8080/"
        },
        "id": "VT3YNFVB-iF7",
        "outputId": "9f9748eb-46d8-4e0e-a787-a4f50885aa83"
      },
      "source": [
        "data = my_data.tolist()\n",
        "for i in range(5):\n",
        "  print(data[i])\n",
        "print(type(data))\n",
        "print(len(data))"
      ],
      "execution_count": 3,
      "outputs": [
        {
          "output_type": "stream",
          "text": [
            "[5.1, 3.5, 1.4, 0.2, 0.0]\n",
            "[4.9, 3.0, 1.4, 0.2, 0.0]\n",
            "[4.7, 3.2, 1.3, 0.2, 0.0]\n",
            "[4.6, 3.1, 1.5, 0.2, 0.0]\n",
            "[5.0, 3.6, 1.4, 0.2, 0.0]\n",
            "<class 'list'>\n",
            "150\n"
          ],
          "name": "stdout"
        }
      ]
    },
    {
      "cell_type": "code",
      "metadata": {
        "id": "1frAuQm5-kH5"
      },
      "source": [
        "np.random.shuffle(data)"
      ],
      "execution_count": 4,
      "outputs": []
    },
    {
      "cell_type": "code",
      "metadata": {
        "colab": {
          "base_uri": "https://localhost:8080/"
        },
        "id": "AP-gWjOgZEkW",
        "outputId": "764777ab-613d-44ae-c049-a2c5c1f44d4c"
      },
      "source": [
        "for i in range(5):\n",
        "  print(data[i])\n",
        "\n",
        "print(data)"
      ],
      "execution_count": 5,
      "outputs": [
        {
          "output_type": "stream",
          "text": [
            "[5.7, 3.0, 4.2, 1.2, 1.0]\n",
            "[4.3, 3.0, 1.1, 0.1, 0.0]\n",
            "[5.8, 2.7, 5.1, 1.9, 2.0]\n",
            "[5.4, 3.0, 4.5, 1.5, 1.0]\n",
            "[4.8, 3.4, 1.9, 0.2, 0.0]\n",
            "[[5.7, 3.0, 4.2, 1.2, 1.0], [4.3, 3.0, 1.1, 0.1, 0.0], [5.8, 2.7, 5.1, 1.9, 2.0], [5.4, 3.0, 4.5, 1.5, 1.0], [4.8, 3.4, 1.9, 0.2, 0.0], [4.4, 2.9, 1.4, 0.2, 0.0], [5.9, 3.0, 4.2, 1.5, 1.0], [5.2, 3.4, 1.4, 0.2, 0.0], [6.5, 3.0, 5.2, 2.0, 2.0], [5.9, 3.2, 4.8, 1.8, 1.0], [5.3, 3.7, 1.5, 0.2, 0.0], [4.6, 3.6, 1.0, 0.2, 0.0], [5.7, 2.8, 4.5, 1.3, 1.0], [5.1, 3.8, 1.6, 0.2, 0.0], [6.7, 3.0, 5.0, 1.7, 1.0], [5.7, 2.8, 4.1, 1.3, 1.0], [5.8, 4.0, 1.2, 0.2, 0.0], [5.4, 3.9, 1.7, 0.4, 0.0], [6.5, 2.8, 4.6, 1.5, 1.0], [6.2, 3.4, 5.4, 2.3, 2.0], [6.1, 3.0, 4.9, 1.8, 2.0], [7.0, 3.2, 4.7, 1.4, 1.0], [4.7, 3.2, 1.3, 0.2, 0.0], [6.1, 2.8, 4.0, 1.3, 1.0], [5.1, 3.8, 1.9, 0.4, 0.0], [6.8, 3.0, 5.5, 2.1, 2.0], [6.7, 3.3, 5.7, 2.5, 2.0], [5.7, 2.5, 5.0, 2.0, 2.0], [4.9, 3.1, 1.5, 0.2, 0.0], [5.4, 3.4, 1.5, 0.4, 0.0], [5.0, 3.5, 1.3, 0.3, 0.0], [5.1, 3.4, 1.5, 0.2, 0.0], [4.8, 3.0, 1.4, 0.1, 0.0], [6.7, 3.1, 5.6, 2.4, 2.0], [7.1, 3.0, 5.9, 2.1, 2.0], [6.1, 2.9, 4.7, 1.4, 1.0], [5.0, 3.3, 1.4, 0.2, 0.0], [5.5, 2.6, 4.4, 1.2, 1.0], [5.7, 4.4, 1.5, 0.4, 0.0], [6.2, 2.9, 4.3, 1.3, 1.0], [6.7, 3.3, 5.7, 2.1, 2.0], [6.5, 3.2, 5.1, 2.0, 2.0], [4.7, 3.2, 1.6, 0.2, 0.0], [6.8, 2.8, 4.8, 1.4, 1.0], [5.7, 2.6, 3.5, 1.0, 1.0], [5.1, 2.5, 3.0, 1.1, 1.0], [6.3, 2.3, 4.4, 1.3, 1.0], [5.2, 2.7, 3.9, 1.4, 1.0], [4.6, 3.1, 1.5, 0.2, 0.0], [6.6, 3.0, 4.4, 1.4, 1.0], [4.9, 3.6, 1.4, 0.1, 0.0], [6.5, 3.0, 5.5, 1.8, 2.0], [4.4, 3.0, 1.3, 0.2, 0.0], [5.0, 2.0, 3.5, 1.0, 1.0], [6.3, 3.3, 4.7, 1.6, 1.0], [5.6, 3.0, 4.5, 1.5, 1.0], [6.0, 2.9, 4.5, 1.5, 1.0], [6.4, 3.2, 5.3, 2.3, 2.0], [4.9, 3.0, 1.4, 0.2, 0.0], [7.2, 3.2, 6.0, 1.8, 2.0], [6.3, 2.9, 5.6, 1.8, 2.0], [6.3, 2.5, 5.0, 1.9, 2.0], [6.6, 2.9, 4.6, 1.3, 1.0], [5.2, 3.5, 1.5, 0.2, 0.0], [6.3, 2.7, 4.9, 1.8, 2.0], [5.6, 2.8, 4.9, 2.0, 2.0], [6.1, 2.6, 5.6, 1.4, 2.0], [6.0, 3.0, 4.8, 1.8, 2.0], [5.8, 2.7, 3.9, 1.2, 1.0], [6.9, 3.1, 4.9, 1.5, 1.0], [5.0, 2.3, 3.3, 1.0, 1.0], [5.4, 3.9, 1.3, 0.4, 0.0], [5.8, 2.7, 5.1, 1.9, 2.0], [6.7, 3.1, 4.4, 1.4, 1.0], [6.4, 2.8, 5.6, 2.2, 2.0], [5.1, 3.5, 1.4, 0.3, 0.0], [6.1, 3.0, 4.6, 1.4, 1.0], [6.8, 3.2, 5.9, 2.3, 2.0], [6.0, 2.2, 4.0, 1.0, 1.0], [7.9, 3.8, 6.4, 2.0, 2.0], [5.4, 3.4, 1.7, 0.2, 0.0], [6.0, 2.2, 5.0, 1.5, 2.0], [6.3, 3.3, 6.0, 2.5, 2.0], [5.7, 2.9, 4.2, 1.3, 1.0], [5.0, 3.0, 1.6, 0.2, 0.0], [5.1, 3.5, 1.4, 0.2, 0.0], [5.5, 4.2, 1.4, 0.2, 0.0], [5.5, 2.5, 4.0, 1.3, 1.0], [7.7, 3.8, 6.7, 2.2, 2.0], [6.9, 3.1, 5.1, 2.3, 2.0], [6.9, 3.1, 5.4, 2.1, 2.0], [7.4, 2.8, 6.1, 1.9, 2.0], [6.5, 3.0, 5.8, 2.2, 2.0], [5.1, 3.7, 1.5, 0.4, 0.0], [4.4, 3.2, 1.3, 0.2, 0.0], [5.0, 3.6, 1.4, 0.2, 0.0], [6.0, 2.7, 5.1, 1.6, 1.0], [4.6, 3.4, 1.4, 0.3, 0.0], [5.7, 3.8, 1.7, 0.3, 0.0], [7.6, 3.0, 6.6, 2.1, 2.0], [6.4, 3.1, 5.5, 1.8, 2.0], [5.4, 3.7, 1.5, 0.2, 0.0], [6.0, 3.4, 4.5, 1.6, 1.0], [5.6, 3.0, 4.1, 1.3, 1.0], [7.7, 3.0, 6.1, 2.3, 2.0], [5.8, 2.7, 4.1, 1.0, 1.0], [4.9, 3.1, 1.5, 0.1, 0.0], [7.2, 3.6, 6.1, 2.5, 2.0], [5.1, 3.3, 1.7, 0.5, 0.0], [4.8, 3.1, 1.6, 0.2, 0.0], [4.8, 3.0, 1.4, 0.3, 0.0], [4.6, 3.2, 1.4, 0.2, 0.0], [6.1, 2.8, 4.7, 1.2, 1.0], [6.3, 2.5, 4.9, 1.5, 1.0], [5.0, 3.2, 1.2, 0.2, 0.0], [5.5, 2.4, 3.7, 1.0, 1.0], [6.7, 3.1, 4.7, 1.5, 1.0], [6.2, 2.2, 4.5, 1.5, 1.0], [6.7, 3.0, 5.2, 2.3, 2.0], [5.8, 2.8, 5.1, 2.4, 2.0], [5.5, 3.5, 1.3, 0.2, 0.0], [6.4, 3.2, 4.5, 1.5, 1.0], [5.6, 2.5, 3.9, 1.1, 1.0], [5.0, 3.5, 1.6, 0.6, 0.0], [5.0, 3.4, 1.5, 0.2, 0.0], [6.9, 3.2, 5.7, 2.3, 2.0], [5.2, 4.1, 1.5, 0.1, 0.0], [5.5, 2.3, 4.0, 1.3, 1.0], [6.7, 2.5, 5.8, 1.8, 2.0], [7.2, 3.0, 5.8, 1.6, 2.0], [6.4, 2.7, 5.3, 1.9, 2.0], [5.6, 2.9, 3.6, 1.3, 1.0], [5.8, 2.6, 4.0, 1.2, 1.0], [4.9, 2.5, 4.5, 1.7, 2.0], [7.7, 2.6, 6.9, 2.3, 2.0], [6.2, 2.8, 4.8, 1.8, 2.0], [5.6, 2.7, 4.2, 1.3, 1.0], [6.4, 2.8, 5.6, 2.1, 2.0], [7.7, 2.8, 6.7, 2.0, 2.0], [5.1, 3.8, 1.5, 0.3, 0.0], [5.5, 2.4, 3.8, 1.1, 1.0], [5.0, 3.4, 1.6, 0.4, 0.0], [6.3, 3.4, 5.6, 2.4, 2.0], [4.8, 3.4, 1.6, 0.2, 0.0], [6.3, 2.8, 5.1, 1.5, 2.0], [4.9, 2.4, 3.3, 1.0, 1.0], [6.4, 2.9, 4.3, 1.3, 1.0], [5.9, 3.0, 5.1, 1.8, 2.0], [4.5, 2.3, 1.3, 0.3, 0.0], [7.3, 2.9, 6.3, 1.8, 2.0]]\n"
          ],
          "name": "stdout"
        }
      ]
    },
    {
      "cell_type": "code",
      "metadata": {
        "id": "Nmkm1xaJfYg8"
      },
      "source": [
        "from numpy import random"
      ],
      "execution_count": 6,
      "outputs": []
    },
    {
      "cell_type": "code",
      "metadata": {
        "id": "Osm2s9TZimwZ"
      },
      "source": [
        "Train_set=[]\n",
        "Val_set=[]\n",
        "Test_set=[]"
      ],
      "execution_count": 7,
      "outputs": []
    },
    {
      "cell_type": "code",
      "metadata": {
        "id": "EoQ7KqDwhOgc"
      },
      "source": [
        "for S in data:\n",
        " R= random.rand()\n",
        " if R>=0 and R<=0.7:\n",
        "\t\tTrain_set.append(S)\n",
        " elif R>0.7 and R<=0.85:\n",
        "\t\tVal_set.append(S)\n",
        " else:\n",
        "\t\tTest_set.append(S)  "
      ],
      "execution_count": 8,
      "outputs": []
    },
    {
      "cell_type": "code",
      "metadata": {
        "colab": {
          "base_uri": "https://localhost:8080/"
        },
        "id": "1D5noRfimPd-",
        "outputId": "f9919ff2-81f3-45b5-e412-e7ee0bb21ffc"
      },
      "source": [
        "print(Train_set)\n",
        "print(Val_set)\n",
        "print(Test_set)\n"
      ],
      "execution_count": 9,
      "outputs": [
        {
          "output_type": "stream",
          "text": [
            "[[4.3, 3.0, 1.1, 0.1, 0.0], [5.4, 3.0, 4.5, 1.5, 1.0], [4.8, 3.4, 1.9, 0.2, 0.0], [4.4, 2.9, 1.4, 0.2, 0.0], [6.5, 3.0, 5.2, 2.0, 2.0], [5.9, 3.2, 4.8, 1.8, 1.0], [5.3, 3.7, 1.5, 0.2, 0.0], [4.6, 3.6, 1.0, 0.2, 0.0], [5.7, 2.8, 4.5, 1.3, 1.0], [5.1, 3.8, 1.6, 0.2, 0.0], [6.7, 3.0, 5.0, 1.7, 1.0], [5.8, 4.0, 1.2, 0.2, 0.0], [5.4, 3.9, 1.7, 0.4, 0.0], [6.5, 2.8, 4.6, 1.5, 1.0], [6.2, 3.4, 5.4, 2.3, 2.0], [6.1, 3.0, 4.9, 1.8, 2.0], [7.0, 3.2, 4.7, 1.4, 1.0], [4.7, 3.2, 1.3, 0.2, 0.0], [5.1, 3.8, 1.9, 0.4, 0.0], [6.8, 3.0, 5.5, 2.1, 2.0], [4.9, 3.1, 1.5, 0.2, 0.0], [5.0, 3.5, 1.3, 0.3, 0.0], [5.1, 3.4, 1.5, 0.2, 0.0], [6.7, 3.1, 5.6, 2.4, 2.0], [7.1, 3.0, 5.9, 2.1, 2.0], [6.1, 2.9, 4.7, 1.4, 1.0], [5.5, 2.6, 4.4, 1.2, 1.0], [5.7, 4.4, 1.5, 0.4, 0.0], [6.2, 2.9, 4.3, 1.3, 1.0], [6.7, 3.3, 5.7, 2.1, 2.0], [6.5, 3.2, 5.1, 2.0, 2.0], [4.7, 3.2, 1.6, 0.2, 0.0], [6.8, 2.8, 4.8, 1.4, 1.0], [5.7, 2.6, 3.5, 1.0, 1.0], [5.1, 2.5, 3.0, 1.1, 1.0], [6.3, 2.3, 4.4, 1.3, 1.0], [5.2, 2.7, 3.9, 1.4, 1.0], [6.6, 3.0, 4.4, 1.4, 1.0], [6.5, 3.0, 5.5, 1.8, 2.0], [5.0, 2.0, 3.5, 1.0, 1.0], [6.3, 3.3, 4.7, 1.6, 1.0], [5.6, 3.0, 4.5, 1.5, 1.0], [6.4, 3.2, 5.3, 2.3, 2.0], [4.9, 3.0, 1.4, 0.2, 0.0], [7.2, 3.2, 6.0, 1.8, 2.0], [6.6, 2.9, 4.6, 1.3, 1.0], [5.2, 3.5, 1.5, 0.2, 0.0], [6.3, 2.7, 4.9, 1.8, 2.0], [5.6, 2.8, 4.9, 2.0, 2.0], [6.0, 3.0, 4.8, 1.8, 2.0], [5.8, 2.7, 3.9, 1.2, 1.0], [6.9, 3.1, 4.9, 1.5, 1.0], [5.0, 2.3, 3.3, 1.0, 1.0], [5.8, 2.7, 5.1, 1.9, 2.0], [6.4, 2.8, 5.6, 2.2, 2.0], [6.1, 3.0, 4.6, 1.4, 1.0], [6.0, 2.2, 5.0, 1.5, 2.0], [6.3, 3.3, 6.0, 2.5, 2.0], [5.7, 2.9, 4.2, 1.3, 1.0], [5.1, 3.5, 1.4, 0.2, 0.0], [5.5, 4.2, 1.4, 0.2, 0.0], [5.5, 2.5, 4.0, 1.3, 1.0], [7.7, 3.8, 6.7, 2.2, 2.0], [6.9, 3.1, 5.1, 2.3, 2.0], [6.9, 3.1, 5.4, 2.1, 2.0], [7.4, 2.8, 6.1, 1.9, 2.0], [6.5, 3.0, 5.8, 2.2, 2.0], [5.1, 3.7, 1.5, 0.4, 0.0], [4.4, 3.2, 1.3, 0.2, 0.0], [6.0, 2.7, 5.1, 1.6, 1.0], [4.6, 3.4, 1.4, 0.3, 0.0], [5.7, 3.8, 1.7, 0.3, 0.0], [7.6, 3.0, 6.6, 2.1, 2.0], [6.4, 3.1, 5.5, 1.8, 2.0], [5.4, 3.7, 1.5, 0.2, 0.0], [6.0, 3.4, 4.5, 1.6, 1.0], [5.6, 3.0, 4.1, 1.3, 1.0], [7.7, 3.0, 6.1, 2.3, 2.0], [5.8, 2.7, 4.1, 1.0, 1.0], [4.9, 3.1, 1.5, 0.1, 0.0], [7.2, 3.6, 6.1, 2.5, 2.0], [5.1, 3.3, 1.7, 0.5, 0.0], [4.8, 3.1, 1.6, 0.2, 0.0], [4.6, 3.2, 1.4, 0.2, 0.0], [6.1, 2.8, 4.7, 1.2, 1.0], [5.0, 3.2, 1.2, 0.2, 0.0], [5.5, 2.4, 3.7, 1.0, 1.0], [6.7, 3.1, 4.7, 1.5, 1.0], [6.2, 2.2, 4.5, 1.5, 1.0], [6.7, 3.0, 5.2, 2.3, 2.0], [5.8, 2.8, 5.1, 2.4, 2.0], [6.4, 3.2, 4.5, 1.5, 1.0], [5.0, 3.5, 1.6, 0.6, 0.0], [5.0, 3.4, 1.5, 0.2, 0.0], [5.2, 4.1, 1.5, 0.1, 0.0], [6.7, 2.5, 5.8, 1.8, 2.0], [7.2, 3.0, 5.8, 1.6, 2.0], [5.6, 2.9, 3.6, 1.3, 1.0], [4.9, 2.5, 4.5, 1.7, 2.0], [7.7, 2.6, 6.9, 2.3, 2.0], [6.2, 2.8, 4.8, 1.8, 2.0], [5.6, 2.7, 4.2, 1.3, 1.0], [6.4, 2.8, 5.6, 2.1, 2.0], [7.7, 2.8, 6.7, 2.0, 2.0], [5.1, 3.8, 1.5, 0.3, 0.0], [5.5, 2.4, 3.8, 1.1, 1.0], [5.0, 3.4, 1.6, 0.4, 0.0], [4.8, 3.4, 1.6, 0.2, 0.0], [6.3, 2.8, 5.1, 1.5, 2.0], [4.9, 2.4, 3.3, 1.0, 1.0], [4.5, 2.3, 1.3, 0.3, 0.0]]\n",
            "[[5.7, 3.0, 4.2, 1.2, 1.0], [5.2, 3.4, 1.4, 0.2, 0.0], [6.1, 2.8, 4.0, 1.3, 1.0], [5.4, 3.4, 1.5, 0.4, 0.0], [4.6, 3.1, 1.5, 0.2, 0.0], [4.9, 3.6, 1.4, 0.1, 0.0], [4.4, 3.0, 1.3, 0.2, 0.0], [6.0, 2.9, 4.5, 1.5, 1.0], [6.3, 2.9, 5.6, 1.8, 2.0], [6.7, 3.1, 4.4, 1.4, 1.0], [6.8, 3.2, 5.9, 2.3, 2.0], [7.9, 3.8, 6.4, 2.0, 2.0], [5.4, 3.4, 1.7, 0.2, 0.0], [4.8, 3.0, 1.4, 0.3, 0.0], [5.5, 3.5, 1.3, 0.2, 0.0], [5.6, 2.5, 3.9, 1.1, 1.0], [6.9, 3.2, 5.7, 2.3, 2.0], [6.4, 2.7, 5.3, 1.9, 2.0], [5.8, 2.6, 4.0, 1.2, 1.0], [6.3, 3.4, 5.6, 2.4, 2.0], [5.9, 3.0, 5.1, 1.8, 2.0], [7.3, 2.9, 6.3, 1.8, 2.0]]\n",
            "[[5.8, 2.7, 5.1, 1.9, 2.0], [5.9, 3.0, 4.2, 1.5, 1.0], [5.7, 2.8, 4.1, 1.3, 1.0], [6.7, 3.3, 5.7, 2.5, 2.0], [5.7, 2.5, 5.0, 2.0, 2.0], [4.8, 3.0, 1.4, 0.1, 0.0], [5.0, 3.3, 1.4, 0.2, 0.0], [6.3, 2.5, 5.0, 1.9, 2.0], [6.1, 2.6, 5.6, 1.4, 2.0], [5.4, 3.9, 1.3, 0.4, 0.0], [5.1, 3.5, 1.4, 0.3, 0.0], [6.0, 2.2, 4.0, 1.0, 1.0], [5.0, 3.0, 1.6, 0.2, 0.0], [5.0, 3.6, 1.4, 0.2, 0.0], [6.3, 2.5, 4.9, 1.5, 1.0], [5.5, 2.3, 4.0, 1.3, 1.0], [6.4, 2.9, 4.3, 1.3, 1.0]]\n"
          ],
          "name": "stdout"
        }
      ]
    },
    {
      "cell_type": "code",
      "metadata": {
        "colab": {
          "base_uri": "https://localhost:8080/"
        },
        "id": "E0-xvmO5mvAc",
        "outputId": "d81b87aa-7465-454e-c5ad-eaef14550a90"
      },
      "source": [
        "print(len(Train_set))\n",
        "print(len(Val_set))\n",
        "print(len(Test_set))"
      ],
      "execution_count": 10,
      "outputs": [
        {
          "output_type": "stream",
          "text": [
            "111\n",
            "22\n",
            "17\n"
          ],
          "name": "stdout"
        }
      ]
    },
    {
      "cell_type": "code",
      "metadata": {
        "id": "uVIDY3NRrHu4"
      },
      "source": [
        "k=25\n",
        "cor=0\n",
        "for v in Val_set:\n",
        "  L=[]\n",
        "  \n",
        "  \n",
        "  for t in Train_set:\n",
        "    vx=np.array(v[0:4])\n",
        "    tx=np.array(t[0:4])\n",
        "    dist=np.sqrt(np.sum((vx - tx) ** 2))\n",
        "    L.append((t,dist)) \n",
        "  L.sort(key=lambda tup: tup[1]) \n",
        "  neig = list(np.array(L)[:k,0])\n",
        "  kl=[]\n",
        "  \n",
        "  for i in range(len(neig)):\n",
        "    kl.append(neig[i][4])\n",
        "  res = max(set(kl), key = kl.count) \n",
        "  print(v[len(v)-1])\n",
        "  if res==v[len(v)-1]:\n",
        "    cor += 1\n",
        "  \n",
        "print(neig) \n",
        "print(res)  \n",
        "print(cor) \n",
        "val_accuracy=(cor/len(Val_set))*100\n",
        "print(val_accuracy)"
      ],
      "execution_count": null,
      "outputs": []
    },
    {
      "cell_type": "code",
      "metadata": {
        "id": "R3bRkY5wJgVG"
      },
      "source": [
        ""
      ],
      "execution_count": null,
      "outputs": []
    },
    {
      "cell_type": "code",
      "metadata": {
        "id": "lzJktJURKef_"
      },
      "source": [
        "k=7\n",
        "cor=0\n",
        "for v in Test_set:\n",
        "  L=[]\n",
        "  \n",
        "  \n",
        "  for t in Train_set:\n",
        "    vx=np.array(v[0:4])\n",
        "    tx=np.array(t[0:4])\n",
        "    dist=np.sqrt(np.sum((vx - tx) ** 2))\n",
        "    L.append((t,dist)) \n",
        "  L.sort(key=lambda tup: tup[1]) \n",
        "  neig = list(np.array(L)[:k,0])\n",
        "  kl=[]\n",
        "  \n",
        "  for i in range(len(neig)):\n",
        "    kl.append(neig[i][4])\n",
        "  res = max(set(kl), key = kl.count) \n",
        "  \n",
        "  if res==v[len(v)-1]:\n",
        "    cor += 1\n",
        "  \n",
        "\n",
        "print(res)  \n",
        "print(cor) \n",
        "test_accuracy=(cor/len(Test_set))*100\n",
        "print(test_accuracy)"
      ],
      "execution_count": null,
      "outputs": []
    },
    {
      "cell_type": "code",
      "metadata": {
        "colab": {
          "base_uri": "https://localhost:8080/"
        },
        "id": "eKmtXgIbJhus",
        "outputId": "590e9011-94b5-4ad6-daa6-7ec81e76efe9"
      },
      "source": [
        "from google.colab import drive\n",
        "drive.mount('/content/gdrive')\n",
        "\n",
        "from numpy import genfromtxt\n",
        "import numpy as np \n",
        "from numpy import random\n",
        "data_path = '/content/gdrive/MyDrive/ai/iris.csv'\n",
        "my_data = genfromtxt(data_path, delimiter=',')\n",
        "\n",
        "data = my_data.tolist()\n",
        "\n",
        "np.random.shuffle(data)\n",
        "\n",
        "Train_set=[]\n",
        "Val_set=[]\n",
        "Test_set=[]\n",
        "\n",
        "for S in data:\n",
        " R= random.rand()\n",
        " if R>=0 and R<=0.7:\n",
        "\t\tTrain_set.append(S)\n",
        " elif R>0.7 and R<=0.85:\n",
        "\t\tVal_set.append(S)\n",
        " else:\n",
        "\t\tTest_set.append(S)  \n",
        "  \n",
        "k=25\n",
        "cor=0\n",
        "for v in Val_set:\n",
        "  L=[]\n",
        "  \n",
        "  \n",
        "  for t in Train_set:\n",
        "    vx=np.array(v[0:4])\n",
        "    tx=np.array(t[0:4])\n",
        "    dist=np.sqrt(np.sum((vx - tx) ** 2))\n",
        "    L.append((t,dist)) \n",
        "  L.sort(key=lambda tup: tup[1]) \n",
        "  neig = list(np.array(L)[:k,0])\n",
        "  kl=[]\n",
        "  \n",
        "  for i in range(len(neig)):\n",
        "    kl.append(neig[i][4])\n",
        "  res = max(set(kl), key = kl.count) \n",
        "  if res==v[len(v)-1]:\n",
        "    cor += 1\n",
        "val_accuracy=(cor/len(Val_set))*100\n",
        "print(\"validation accuracy\",val_accuracy)\n",
        "\n",
        "\n",
        "k=7\n",
        "cor=0\n",
        "for v in Test_set:\n",
        "  L=[]\n",
        "  \n",
        "  \n",
        "  for t in Train_set:\n",
        "    vx=np.array(v[0:4])\n",
        "    tx=np.array(t[0:4])\n",
        "    dist=np.sqrt(np.sum((vx - tx) ** 2))\n",
        "    L.append((t,dist)) \n",
        "  L.sort(key=lambda tup: tup[1]) \n",
        "  neig = list(np.array(L)[:k,0])\n",
        "  kl=[]\n",
        "  \n",
        "  for i in range(len(neig)):\n",
        "    kl.append(neig[i][4])\n",
        "  res = max(set(kl), key = kl.count) \n",
        "  \n",
        "  if res==v[len(v)-1]:\n",
        "    cor += 1 \n",
        "test_accuracy=(cor/len(Test_set))*100\n",
        "print(\"Test Accuracy\",test_accuracy)\n",
        "\n",
        "\n"
      ],
      "execution_count": 23,
      "outputs": [
        {
          "output_type": "stream",
          "text": [
            "Drive already mounted at /content/gdrive; to attempt to forcibly remount, call drive.mount(\"/content/gdrive\", force_remount=True).\n",
            "validation accuracy 100.0\n",
            "Test Accuracy 94.11764705882352\n"
          ],
          "name": "stdout"
        },
        {
          "output_type": "stream",
          "text": [
            "/usr/local/lib/python3.6/dist-packages/ipykernel_launcher.py:39: VisibleDeprecationWarning: Creating an ndarray from ragged nested sequences (which is a list-or-tuple of lists-or-tuples-or ndarrays with different lengths or shapes) is deprecated. If you meant to do this, you must specify 'dtype=object' when creating the ndarray\n",
            "/usr/local/lib/python3.6/dist-packages/ipykernel_launcher.py:63: VisibleDeprecationWarning: Creating an ndarray from ragged nested sequences (which is a list-or-tuple of lists-or-tuples-or ndarrays with different lengths or shapes) is deprecated. If you meant to do this, you must specify 'dtype=object' when creating the ndarray\n"
          ],
          "name": "stderr"
        }
      ]
    }
  ]
}