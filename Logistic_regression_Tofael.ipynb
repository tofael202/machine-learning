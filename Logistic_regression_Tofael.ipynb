{
  "nbformat": 4,
  "nbformat_minor": 0,
  "metadata": {
    "colab": {
      "name": "Logistic_regression_Tofael.ipynb",
      "provenance": [],
      "collapsed_sections": [],
      "authorship_tag": "ABX9TyOCuRUxy9U8H83cAx4jHExf",
      "include_colab_link": true
    },
    "kernelspec": {
      "name": "python3",
      "display_name": "Python 3"
    }
  },
  "cells": [
    {
      "cell_type": "markdown",
      "metadata": {
        "id": "view-in-github",
        "colab_type": "text"
      },
      "source": [
        "<a href=\"https://colab.research.google.com/github/tofael202/machine-learning/blob/Logistic-regression/Logistic_regression_Tofael.ipynb\" target=\"_parent\"><img src=\"https://colab.research.google.com/assets/colab-badge.svg\" alt=\"Open In Colab\"/></a>"
      ]
    },
    {
      "cell_type": "code",
      "metadata": {
        "id": "OG8nfdXAdydH"
      },
      "source": [
        "from sklearn import datasets\n",
        "import numpy as np\n",
        "iris = datasets.load_iris()\n",
        "X = iris.data[:, :2]\n",
        "y = (iris.target != 0) * 1"
      ],
      "execution_count": null,
      "outputs": []
    },
    {
      "cell_type": "code",
      "metadata": {
        "colab": {
          "base_uri": "https://localhost:8080/"
        },
        "id": "hAyWBbLJd2cF",
        "outputId": "e1e4a9b3-5aa6-47ad-806c-1c24068b28b3"
      },
      "source": [
        "print(X.shape)\n",
        "print(y.shape)\n"
      ],
      "execution_count": null,
      "outputs": [
        {
          "output_type": "stream",
          "text": [
            "(150, 2)\n",
            "(150,)\n"
          ],
          "name": "stdout"
        }
      ]
    },
    {
      "cell_type": "code",
      "metadata": {
        "id": "dlHlKanxef8L",
        "colab": {
          "base_uri": "https://localhost:8080/"
        },
        "outputId": "43dc051a-fcff-4bec-c8da-a063161dce1e"
      },
      "source": [
        "type(X)"
      ],
      "execution_count": null,
      "outputs": [
        {
          "output_type": "execute_result",
          "data": {
            "text/plain": [
              "numpy.ndarray"
            ]
          },
          "metadata": {
            "tags": []
          },
          "execution_count": 35
        }
      ]
    },
    {
      "cell_type": "code",
      "metadata": {
        "id": "Emhj12HxhodY"
      },
      "source": [
        "X= X.tolist()\n",
        "y=y.tolist()"
      ],
      "execution_count": null,
      "outputs": []
    },
    {
      "cell_type": "code",
      "metadata": {
        "colab": {
          "base_uri": "https://localhost:8080/"
        },
        "id": "LnQVn0VJhvrR",
        "outputId": "97e73903-d273-4045-e246-cafdb8cfd056"
      },
      "source": [
        "type(X)"
      ],
      "execution_count": null,
      "outputs": [
        {
          "output_type": "execute_result",
          "data": {
            "text/plain": [
              "list"
            ]
          },
          "metadata": {
            "tags": []
          },
          "execution_count": 37
        }
      ]
    },
    {
      "cell_type": "code",
      "metadata": {
        "id": "gFSNyKhbh2jx"
      },
      "source": [
        "for i in range(len(X)):\n",
        "    X[i].append(1)"
      ],
      "execution_count": null,
      "outputs": []
    },
    {
      "cell_type": "code",
      "metadata": {
        "colab": {
          "base_uri": "https://localhost:8080/"
        },
        "id": "dyvLbot70Nm5",
        "outputId": "7aa64c51-13db-4d45-e91c-362a8198155d"
      },
      "source": [
        "\n",
        "for i in range(len(X)):\n",
        "    X[i].append(y[i])\n",
        "print(X)\n"
      ],
      "execution_count": null,
      "outputs": [
        {
          "output_type": "stream",
          "text": [
            "[[5.1, 3.5, 1, 0], [4.9, 3.0, 1, 0], [4.7, 3.2, 1, 0], [4.6, 3.1, 1, 0], [5.0, 3.6, 1, 0], [5.4, 3.9, 1, 0], [4.6, 3.4, 1, 0], [5.0, 3.4, 1, 0], [4.4, 2.9, 1, 0], [4.9, 3.1, 1, 0], [5.4, 3.7, 1, 0], [4.8, 3.4, 1, 0], [4.8, 3.0, 1, 0], [4.3, 3.0, 1, 0], [5.8, 4.0, 1, 0], [5.7, 4.4, 1, 0], [5.4, 3.9, 1, 0], [5.1, 3.5, 1, 0], [5.7, 3.8, 1, 0], [5.1, 3.8, 1, 0], [5.4, 3.4, 1, 0], [5.1, 3.7, 1, 0], [4.6, 3.6, 1, 0], [5.1, 3.3, 1, 0], [4.8, 3.4, 1, 0], [5.0, 3.0, 1, 0], [5.0, 3.4, 1, 0], [5.2, 3.5, 1, 0], [5.2, 3.4, 1, 0], [4.7, 3.2, 1, 0], [4.8, 3.1, 1, 0], [5.4, 3.4, 1, 0], [5.2, 4.1, 1, 0], [5.5, 4.2, 1, 0], [4.9, 3.1, 1, 0], [5.0, 3.2, 1, 0], [5.5, 3.5, 1, 0], [4.9, 3.6, 1, 0], [4.4, 3.0, 1, 0], [5.1, 3.4, 1, 0], [5.0, 3.5, 1, 0], [4.5, 2.3, 1, 0], [4.4, 3.2, 1, 0], [5.0, 3.5, 1, 0], [5.1, 3.8, 1, 0], [4.8, 3.0, 1, 0], [5.1, 3.8, 1, 0], [4.6, 3.2, 1, 0], [5.3, 3.7, 1, 0], [5.0, 3.3, 1, 0], [7.0, 3.2, 1, 1], [6.4, 3.2, 1, 1], [6.9, 3.1, 1, 1], [5.5, 2.3, 1, 1], [6.5, 2.8, 1, 1], [5.7, 2.8, 1, 1], [6.3, 3.3, 1, 1], [4.9, 2.4, 1, 1], [6.6, 2.9, 1, 1], [5.2, 2.7, 1, 1], [5.0, 2.0, 1, 1], [5.9, 3.0, 1, 1], [6.0, 2.2, 1, 1], [6.1, 2.9, 1, 1], [5.6, 2.9, 1, 1], [6.7, 3.1, 1, 1], [5.6, 3.0, 1, 1], [5.8, 2.7, 1, 1], [6.2, 2.2, 1, 1], [5.6, 2.5, 1, 1], [5.9, 3.2, 1, 1], [6.1, 2.8, 1, 1], [6.3, 2.5, 1, 1], [6.1, 2.8, 1, 1], [6.4, 2.9, 1, 1], [6.6, 3.0, 1, 1], [6.8, 2.8, 1, 1], [6.7, 3.0, 1, 1], [6.0, 2.9, 1, 1], [5.7, 2.6, 1, 1], [5.5, 2.4, 1, 1], [5.5, 2.4, 1, 1], [5.8, 2.7, 1, 1], [6.0, 2.7, 1, 1], [5.4, 3.0, 1, 1], [6.0, 3.4, 1, 1], [6.7, 3.1, 1, 1], [6.3, 2.3, 1, 1], [5.6, 3.0, 1, 1], [5.5, 2.5, 1, 1], [5.5, 2.6, 1, 1], [6.1, 3.0, 1, 1], [5.8, 2.6, 1, 1], [5.0, 2.3, 1, 1], [5.6, 2.7, 1, 1], [5.7, 3.0, 1, 1], [5.7, 2.9, 1, 1], [6.2, 2.9, 1, 1], [5.1, 2.5, 1, 1], [5.7, 2.8, 1, 1], [6.3, 3.3, 1, 1], [5.8, 2.7, 1, 1], [7.1, 3.0, 1, 1], [6.3, 2.9, 1, 1], [6.5, 3.0, 1, 1], [7.6, 3.0, 1, 1], [4.9, 2.5, 1, 1], [7.3, 2.9, 1, 1], [6.7, 2.5, 1, 1], [7.2, 3.6, 1, 1], [6.5, 3.2, 1, 1], [6.4, 2.7, 1, 1], [6.8, 3.0, 1, 1], [5.7, 2.5, 1, 1], [5.8, 2.8, 1, 1], [6.4, 3.2, 1, 1], [6.5, 3.0, 1, 1], [7.7, 3.8, 1, 1], [7.7, 2.6, 1, 1], [6.0, 2.2, 1, 1], [6.9, 3.2, 1, 1], [5.6, 2.8, 1, 1], [7.7, 2.8, 1, 1], [6.3, 2.7, 1, 1], [6.7, 3.3, 1, 1], [7.2, 3.2, 1, 1], [6.2, 2.8, 1, 1], [6.1, 3.0, 1, 1], [6.4, 2.8, 1, 1], [7.2, 3.0, 1, 1], [7.4, 2.8, 1, 1], [7.9, 3.8, 1, 1], [6.4, 2.8, 1, 1], [6.3, 2.8, 1, 1], [6.1, 2.6, 1, 1], [7.7, 3.0, 1, 1], [6.3, 3.4, 1, 1], [6.4, 3.1, 1, 1], [6.0, 3.0, 1, 1], [6.9, 3.1, 1, 1], [6.7, 3.1, 1, 1], [6.9, 3.1, 1, 1], [5.8, 2.7, 1, 1], [6.8, 3.2, 1, 1], [6.7, 3.3, 1, 1], [6.7, 3.0, 1, 1], [6.3, 2.5, 1, 1], [6.5, 3.0, 1, 1], [6.2, 3.4, 1, 1], [5.9, 3.0, 1, 1]]\n"
          ],
          "name": "stdout"
        }
      ]
    },
    {
      "cell_type": "code",
      "metadata": {
        "colab": {
          "base_uri": "https://localhost:8080/"
        },
        "id": "xBvpHXBgh_m4",
        "outputId": "21dfd203-99dc-4442-9b75-0045530640cc"
      },
      "source": [
        "print(len(X))"
      ],
      "execution_count": null,
      "outputs": [
        {
          "output_type": "stream",
          "text": [
            "150\n"
          ],
          "name": "stdout"
        }
      ]
    },
    {
      "cell_type": "code",
      "metadata": {
        "id": "ftrWCPOPo5B4"
      },
      "source": [
        ""
      ],
      "execution_count": null,
      "outputs": []
    },
    {
      "cell_type": "code",
      "metadata": {
        "id": "2QKmuo83irL6"
      },
      "source": [
        "\n"
      ],
      "execution_count": null,
      "outputs": []
    },
    {
      "cell_type": "code",
      "metadata": {
        "id": "XfFmOdntilVl"
      },
      "source": [
        "from numpy import random\n",
        "np.random.shuffle(X) #shuffling the list\n",
        "\n",
        "Train_set=[]\n",
        "Val_set=[]\n",
        "Test_set=[]\n",
        "#spilting data into 3 list training set 70 percent, validation 15 percent and rest other for test perpose\n",
        "for S in X:\n",
        " R= random.rand() # generate a random number between 0 and 1 for each data\n",
        " if R>=0 and R<=0.7:\n",
        "\t\tTrain_set.append(S)\n",
        " elif R>0.7 and R<=0.85:\n",
        "\t\tVal_set.append(S)\n",
        " else:\n",
        "\t\tTest_set.append(S)"
      ],
      "execution_count": null,
      "outputs": []
    },
    {
      "cell_type": "code",
      "metadata": {
        "colab": {
          "base_uri": "https://localhost:8080/"
        },
        "id": "1u1xDDuvi2F7",
        "outputId": "515af734-ced5-46cb-f1a3-9b608e76f066"
      },
      "source": [
        "print(Train_set)\n",
        "print(Val_set)\n",
        "print(Test_set)\n",
        "\n",
        "print(len(Train_set))\n",
        "print(len(Val_set))\n",
        "print(len(Test_set))"
      ],
      "execution_count": null,
      "outputs": [
        {
          "output_type": "stream",
          "text": [
            "[[6.8, 3.2, 1, 1], [6.7, 2.5, 1, 1], [7.4, 2.8, 1, 1], [6.9, 3.1, 1, 1], [5.7, 2.6, 1, 1], [4.9, 2.5, 1, 1], [6.1, 2.9, 1, 1], [5.6, 2.5, 1, 1], [5.9, 3.0, 1, 1], [6.7, 3.0, 1, 1], [6.2, 2.9, 1, 1], [6.8, 2.8, 1, 1], [5.1, 3.5, 1, 0], [7.7, 2.6, 1, 1], [4.6, 3.4, 1, 0], [6.9, 3.2, 1, 1], [6.2, 2.2, 1, 1], [4.9, 3.6, 1, 0], [5.0, 3.0, 1, 0], [4.8, 3.4, 1, 0], [4.6, 3.2, 1, 0], [5.5, 2.4, 1, 1], [4.4, 2.9, 1, 0], [5.1, 3.8, 1, 0], [6.9, 3.1, 1, 1], [5.7, 2.8, 1, 1], [6.0, 2.2, 1, 1], [5.9, 3.2, 1, 1], [4.6, 3.1, 1, 0], [6.5, 3.2, 1, 1], [7.6, 3.0, 1, 1], [5.5, 3.5, 1, 0], [5.7, 3.8, 1, 0], [4.6, 3.6, 1, 0], [4.9, 3.1, 1, 0], [5.0, 3.6, 1, 0], [7.2, 3.0, 1, 1], [5.5, 4.2, 1, 0], [6.3, 2.9, 1, 1], [6.3, 2.5, 1, 1], [4.8, 3.0, 1, 0], [6.6, 2.9, 1, 1], [6.3, 2.3, 1, 1], [5.6, 2.9, 1, 1], [4.5, 2.3, 1, 0], [6.0, 3.4, 1, 1], [6.9, 3.1, 1, 1], [6.5, 2.8, 1, 1], [5.0, 2.3, 1, 1], [5.6, 2.8, 1, 1], [5.6, 3.0, 1, 1], [4.8, 3.0, 1, 0], [5.1, 3.7, 1, 0], [6.0, 2.2, 1, 1], [4.9, 2.4, 1, 1], [6.0, 3.0, 1, 1], [6.3, 3.3, 1, 1], [5.0, 3.2, 1, 0], [4.9, 3.0, 1, 0], [4.8, 3.1, 1, 0], [5.0, 2.0, 1, 1], [6.1, 3.0, 1, 1], [6.5, 3.0, 1, 1], [5.0, 3.4, 1, 0], [7.3, 2.9, 1, 1], [5.8, 2.7, 1, 1], [7.9, 3.8, 1, 1], [5.5, 2.4, 1, 1], [4.8, 3.4, 1, 0], [6.8, 3.0, 1, 1], [5.4, 3.9, 1, 0], [5.2, 2.7, 1, 1], [6.0, 2.7, 1, 1], [5.7, 3.0, 1, 1], [5.7, 2.8, 1, 1], [6.5, 3.0, 1, 1], [6.6, 3.0, 1, 1], [6.4, 3.2, 1, 1], [6.7, 3.1, 1, 1], [5.4, 3.0, 1, 1], [5.8, 4.0, 1, 0], [5.8, 2.7, 1, 1], [7.2, 3.2, 1, 1], [6.1, 2.8, 1, 1], [6.4, 2.8, 1, 1], [5.5, 2.6, 1, 1], [6.4, 2.9, 1, 1], [5.8, 2.6, 1, 1], [5.1, 3.3, 1, 0], [5.4, 3.4, 1, 0], [5.4, 3.4, 1, 0], [5.0, 3.4, 1, 0], [6.1, 2.8, 1, 1], [4.7, 3.2, 1, 0], [5.2, 3.4, 1, 0], [6.7, 3.3, 1, 1], [6.7, 3.1, 1, 1], [5.0, 3.3, 1, 0], [6.4, 2.7, 1, 1], [7.7, 3.8, 1, 1], [5.8, 2.7, 1, 1], [5.7, 2.5, 1, 1]]\n",
            "[[6.1, 2.6, 1, 1], [6.7, 3.1, 1, 1], [6.3, 2.5, 1, 1], [5.7, 2.9, 1, 1], [6.7, 3.0, 1, 1], [5.4, 3.7, 1, 0], [4.4, 3.2, 1, 0], [6.1, 3.0, 1, 1], [5.7, 4.4, 1, 0], [5.6, 3.0, 1, 1], [5.1, 2.5, 1, 1], [5.0, 3.5, 1, 0], [6.7, 3.3, 1, 1], [7.0, 3.2, 1, 1], [4.7, 3.2, 1, 0], [4.9, 3.1, 1, 0], [5.8, 2.8, 1, 1], [6.3, 3.3, 1, 1], [6.3, 2.8, 1, 1], [6.4, 2.8, 1, 1], [5.0, 3.5, 1, 0], [5.1, 3.5, 1, 0], [6.3, 3.4, 1, 1], [7.1, 3.0, 1, 1], [6.4, 3.2, 1, 1]]\n",
            "[[7.2, 3.6, 1, 1], [4.3, 3.0, 1, 0], [5.1, 3.8, 1, 0], [5.8, 2.7, 1, 1], [5.6, 2.7, 1, 1], [5.2, 4.1, 1, 0], [5.1, 3.8, 1, 0], [6.2, 3.4, 1, 1], [7.7, 3.0, 1, 1], [5.9, 3.0, 1, 1], [6.4, 3.1, 1, 1], [5.2, 3.5, 1, 0], [4.4, 3.0, 1, 0], [5.3, 3.7, 1, 0], [7.7, 2.8, 1, 1], [6.5, 3.0, 1, 1], [6.3, 2.7, 1, 1], [6.2, 2.8, 1, 1], [5.1, 3.4, 1, 0], [6.0, 2.9, 1, 1], [5.5, 2.3, 1, 1], [5.5, 2.5, 1, 1], [5.4, 3.9, 1, 0]]\n",
            "102\n",
            "25\n",
            "23\n"
          ],
          "name": "stdout"
        }
      ]
    },
    {
      "cell_type": "code",
      "metadata": {
        "colab": {
          "base_uri": "https://localhost:8080/"
        },
        "id": "2Yh2baNco6KU",
        "outputId": "8cdfa240-8134-4a64-ce51-8d775ce23805"
      },
      "source": [
        "W=[]\n",
        "for i in range(0,3):\n",
        "  n = np.random.uniform(0,1)\n",
        "  W.append(n)\n",
        "print(W) #theta1,theta2,theta3 \n"
      ],
      "execution_count": null,
      "outputs": [
        {
          "output_type": "stream",
          "text": [
            "[0.5554558285454207, 0.5038769415329097, 0.3886939039787819]\n"
          ],
          "name": "stdout"
        }
      ]
    },
    {
      "cell_type": "code",
      "metadata": {
        "id": "21-K43rptWLT"
      },
      "source": [
        "lr=.0001\n",
        "train_loss=[]\n",
        "for i in range(1000):\n",
        "  TJ=0\n",
        "  \n",
        "  for t in Train_set:\n",
        "    tx=np.array(t[0:3])\n",
        "    z=np.dot(tx,W)\n",
        "    y1=t[3]\n",
        "    #print(y1)\n",
        "    #print(z)\n",
        "    h= 1 / (1 + np.exp(-z))\n",
        "    #print(h)\n",
        "    j=-y1*np.log(h)-(1-y1)*np.log(1-h)\n",
        "    #print(j)\n",
        "    TJ=TJ+j\n",
        "    \n",
        "    dv=tx*(h-y1)\n",
        "    #print(dv)\n",
        "    W=W-dv*lr\n",
        "    #print(W)\n",
        "  TJ=TJ/len(Train_set)\n",
        "  train_loss.append(TJ)  \n",
        "#print(len(train_loss))\n",
        " "
      ],
      "execution_count": null,
      "outputs": []
    },
    {
      "cell_type": "code",
      "metadata": {
        "id": "ILITLFEUAfsE"
      },
      "source": [
        "%matplotlib inline\n",
        "import matplotlib.pyplot as plt\n",
        "import sys\n",
        "import matplotlib\n",
        "matplotlib.use('Agg')\n",
        "x_axis=[]\n",
        "y_axis=[]\n",
        "for i in range(1000):\n",
        "  y_axis.append(train_loss[i])\n",
        "  x_axis.append(i)\n",
        "plt.plot(x_axis,y_axis) \n",
        "plt.show() "
      ],
      "execution_count": null,
      "outputs": []
    },
    {
      "cell_type": "code",
      "metadata": {
        "colab": {
          "base_uri": "https://localhost:8080/"
        },
        "id": "-p-KKhor62aH",
        "outputId": "1a90b36f-e066-4636-baac-5931b8daefe4"
      },
      "source": [
        "cor=0\n",
        "for v in Val_set:\n",
        "   vx=np.array(v[0:3])\n",
        "   z=np.dot(vx,W)\n",
        "   y2=v[3]\n",
        "   #print(y2)\n",
        "   h= 1 / (1 + np.exp(-z))\n",
        "   #print(h)\n",
        "   if (h>=0.5) and (h<=1):\n",
        "    h=1\n",
        "   elif (h<0.5) and (h>=0):\n",
        "    h=0\n",
        "   if h== y2:\n",
        "     cor += 1\n",
        "#print(cor)\n",
        "val_acc=(cor/len(Val_set)) \n",
        "print(val_acc)      \n"
      ],
      "execution_count": null,
      "outputs": [
        {
          "output_type": "stream",
          "text": [
            "1.0\n"
          ],
          "name": "stdout"
        }
      ]
    },
    {
      "cell_type": "code",
      "metadata": {
        "id": "VKs31WOKY2eu"
      },
      "source": [
        ""
      ],
      "execution_count": null,
      "outputs": []
    },
    {
      "cell_type": "code",
      "metadata": {
        "colab": {
          "base_uri": "https://localhost:8080/"
        },
        "id": "b8YUxgWbTsaN",
        "outputId": "aef822e5-6f59-4e05-d490-006bed84b83b"
      },
      "source": [
        "cor=0\n",
        "for v in Test_set:\n",
        "   vx=np.array(v[0:3])\n",
        "   z=np.dot(vx,W)\n",
        "   y2=v[3]\n",
        "   #print(y2)\n",
        "   h= 1 / (1 + np.exp(-z))\n",
        "   #print(h)\n",
        "   if h>=0.5:\n",
        "    h=1\n",
        "   else:\n",
        "    h=0\n",
        "   if h== y2:\n",
        "     cor += 1\n",
        "#print(cor)\n",
        "val_acc=(cor/len(Test_set)) \n",
        "print(val_acc)      \n"
      ],
      "execution_count": null,
      "outputs": [
        {
          "output_type": "stream",
          "text": [
            "1.0\n"
          ],
          "name": "stdout"
        }
      ]
    },
    {
      "cell_type": "code",
      "metadata": {
        "id": "3nPZTcBMY3bj"
      },
      "source": [
        "from sklearn import datasets\n",
        "import numpy as np\n",
        "iris = datasets.load_iris()\n",
        "X = iris.data[:, :2]\n",
        "y = (iris.target != 0) * 1\n",
        "\n",
        "X= X.tolist()\n",
        "y=y.tolist()\n",
        "for i in range(len(X)):\n",
        "    X[i].append(1)\n",
        "\n",
        "for i in range(len(X)):\n",
        "    X[i].append(y[i])\n",
        "\n",
        "from numpy import random\n",
        "np.random.shuffle(X) #shuffling the list\n",
        "\n",
        "Train_set=[]\n",
        "Val_set=[]\n",
        "Test_set=[]\n",
        "#spilting data into 3 list training set 70 percent, validation 15 percent and rest other for test perpose\n",
        "for S in X:\n",
        " R= random.rand() # generate a random number between 0 and 1 for each data\n",
        " if R>=0 and R<=0.7:\n",
        "\t\tTrain_set.append(S)\n",
        " elif R>0.7 and R<=0.85:\n",
        "\t\tVal_set.append(S)\n",
        " else:\n",
        "\t\tTest_set.append(S)\n",
        "W=[]\n",
        "for i in range(0,3):\n",
        "  n = np.random.uniform(0,1)\n",
        "  W.append(n) \n",
        "   "
      ],
      "execution_count": null,
      "outputs": []
    },
    {
      "cell_type": "code",
      "metadata": {
        "id": "eFEunoVTZmYB"
      },
      "source": [
        "lr=.0001\n",
        "train_loss=[]\n",
        "for i in range(1000):\n",
        "  TJ=0\n",
        "  \n",
        "  for t in Train_set:\n",
        "    tx=np.array(t[0:3])\n",
        "    z=np.dot(tx,W)\n",
        "    y1=t[3]\n",
        "    #print(y1)\n",
        "    #print(z)\n",
        "    h= 1 / (1 + np.exp(-z))\n",
        "    #print(h)\n",
        "    j=-y1*np.log(h)-(1-y1)*np.log(1-h)\n",
        "    #print(j)\n",
        "    TJ=TJ+j\n",
        "    \n",
        "    dv=tx*(h-y1)\n",
        "    #print(dv)\n",
        "    W=W-dv*lr\n",
        "    #print(W)\n",
        "  TJ=TJ/len(Train_set)\n",
        "  train_loss.append(TJ)  \n",
        "#print(len(train_loss))"
      ],
      "execution_count": null,
      "outputs": []
    },
    {
      "cell_type": "code",
      "metadata": {
        "id": "HObCuxziZtDE"
      },
      "source": [
        "%matplotlib inline\n",
        "import matplotlib.pyplot as plt\n",
        "import sys\n",
        "import matplotlib\n",
        "matplotlib.use('Agg')\n",
        "x_axis=[]\n",
        "y_axis=[]\n",
        "for i in range(1000):\n",
        "  y_axis.append(train_loss[i])\n",
        "  x_axis.append(i)\n",
        "plt.plot(x_axis,y_axis) \n",
        "plt.show() "
      ],
      "execution_count": null,
      "outputs": []
    },
    {
      "cell_type": "code",
      "metadata": {
        "colab": {
          "base_uri": "https://localhost:8080/"
        },
        "id": "RnAzDrAWZ1t-",
        "outputId": "1e86bba7-ae1d-4d25-d0a2-dc057d2d1481"
      },
      "source": [
        "cor=0\n",
        "for v in Val_set:\n",
        "   vx=np.array(v[0:3])\n",
        "   z=np.dot(vx,W)\n",
        "   y2=v[3]\n",
        "   #print(y2)\n",
        "   h= 1 / (1 + np.exp(-z))\n",
        "   #print(h)\n",
        "   if (h>=0.5) and (h<=1):\n",
        "    h=1\n",
        "   elif (h<0.5) and (h>=0):\n",
        "    h=0\n",
        "   if h== y2:\n",
        "     cor += 1\n",
        "#print(cor)\n",
        "val_acc=(cor/len(Val_set)) \n",
        "print(val_acc)  "
      ],
      "execution_count": null,
      "outputs": [
        {
          "output_type": "stream",
          "text": [
            "0.92\n"
          ],
          "name": "stdout"
        }
      ]
    },
    {
      "cell_type": "code",
      "metadata": {
        "colab": {
          "base_uri": "https://localhost:8080/"
        },
        "id": "69POG_kXZ9CB",
        "outputId": "1264fc4e-61ec-4f06-9bbe-fd709b887c49"
      },
      "source": [
        "cor=0\n",
        "for v in Test_set:\n",
        "   vx=np.array(v[0:3])\n",
        "   z=np.dot(vx,W)\n",
        "   y2=v[3]\n",
        "   #print(y2)\n",
        "   h= 1 / (1 + np.exp(-z))\n",
        "   #print(h)\n",
        "   if h>=0.5:\n",
        "    h=1\n",
        "   else:\n",
        "    h=0\n",
        "   if h== y2:\n",
        "     cor += 1\n",
        "#print(cor)\n",
        "val_acc=(cor/len(Test_set)) \n",
        "print(val_acc)      \n"
      ],
      "execution_count": null,
      "outputs": [
        {
          "output_type": "stream",
          "text": [
            "1.0\n"
          ],
          "name": "stdout"
        }
      ]
    },
    {
      "cell_type": "code",
      "metadata": {
        "id": "DUPitAcEaLgH"
      },
      "source": [
        ""
      ],
      "execution_count": null,
      "outputs": []
    }
  ]
}