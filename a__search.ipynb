{
  "nbformat": 4,
  "nbformat_minor": 0,
  "metadata": {
    "colab": {
      "name": "a*_search.ipynb",
      "provenance": [],
      "collapsed_sections": [],
      "authorship_tag": "ABX9TyMBFf+kzLHsC0vva6J0RA/W",
      "include_colab_link": true
    },
    "kernelspec": {
      "name": "python3",
      "display_name": "Python 3"
    }
  },
  "cells": [
    {
      "cell_type": "markdown",
      "metadata": {
        "id": "view-in-github",
        "colab_type": "text"
      },
      "source": [
        "<a href=\"https://colab.research.google.com/github/tofael202/machine-learning/blob/main/a__search.ipynb\" target=\"_parent\"><img src=\"https://colab.research.google.com/assets/colab-badge.svg\" alt=\"Open In Colab\"/></a>"
      ]
    },
    {
      "cell_type": "code",
      "metadata": {
        "id": "ClyoeGBw5tFo"
      },
      "source": [
        "#import priority queue\n",
        "from queue import PriorityQueue"
      ],
      "execution_count": null,
      "outputs": []
    },
    {
      "cell_type": "code",
      "metadata": {
        "colab": {
          "base_uri": "https://localhost:8080/"
        },
        "id": "ObkYwpMFzXs0",
        "outputId": "d6ca214f-b92e-4ea2-80a9-64139faafd76"
      },
      "source": [
        "node_map={0:'S',1:'A',2:'B',3:'C',4:'D'}   #declare the path name into number for easyiness\n",
        "print(node_map)\n",
        "adj_list=[[-1,1,4,-1,-1],[-1,-1,2,5,12],[-1,-1,-1,2,-1],[-1,-1,-1,-1,3],[-1,-1,-1,-1,-1]]  #list of list -1 where no ajecent and others value adjacent node value\n",
        "print(adj_list)\n",
        "heur_val=[7,6,2,1,0]   #heauristic value \n",
        "print(heur_val)"
      ],
      "execution_count": null,
      "outputs": [
        {
          "output_type": "stream",
          "text": [
            "{0: 'S', 1: 'A', 2: 'B', 3: 'C', 4: 'D'}\n",
            "[[-1, 1, 4, -1, -1], [-1, -1, 2, 5, 12], [-1, -1, -1, 2, -1], [-1, -1, -1, -1, 3], [-1, -1, -1, -1, -1]]\n",
            "[7, 6, 2, 1, 0]\n"
          ],
          "name": "stdout"
        }
      ]
    },
    {
      "cell_type": "code",
      "metadata": {
        "id": "5yfEBcLw2qRp"
      },
      "source": [
        "#declare node class for creating object\n",
        "class Node:\n",
        "\n",
        "  def __init__(self,node_no,prev_node,act_cost_gn,total_cost_fn):\n",
        "    self.node_no=node_no\n",
        "    self.prev_node=prev_node\n",
        "    self.act_cost_gn=act_cost_gn\n",
        "    self.total_cost_fn=total_cost_fn\n",
        "\n",
        "  def __lt__(self, other):\n",
        "        return self.total_cost_fn < other.total_cost_fn   #__lt__ mean less than and return only the value which total cost value is the lowest\n",
        "\n",
        "\n",
        "#print path \n",
        "def print_details(current_item): #pass current item\n",
        "    print(\"Minimum Cost : \",current_item.act_cost_gn)   #current item actual g(n) cost .. current item is the destination item\n",
        "    \n",
        "    \n",
        "    desired_path=''    #list for storing the path\n",
        "    path_name = node_map[current_item.node_no]   #it will give correspending path name of current node num from the dictionary we created first\n",
        "    desired_path +=path_name   #insert path name in the list\n",
        "    while current_item.prev_node != -1:   # loop will run till no previous node or till null means -1\n",
        "        current_item=current_item.prev_node\n",
        "        path_name = node_map[current_item.node_no]\n",
        "        desired_path +=path_name\n",
        "    print(\"Path is :\",desired_path[::-1] )        "
      ],
      "execution_count": null,
      "outputs": []
    },
    {
      "cell_type": "code",
      "metadata": {
        "colab": {
          "base_uri": "https://localhost:8080/"
        },
        "id": "GOO-MT4K4TO7",
        "outputId": "c83fdf73-12b7-4e82-a6e3-0cb321ce1798"
      },
      "source": [
        "init_node=Node(0,-1,0,7)\n",
        "n_queue=PriorityQueue()\n",
        "n_queue.put(init_node)\n",
        "\n",
        "while not n_queue.empty():\n",
        "    current_item = n_queue.get()\n",
        "    print(current_item.node_no)\n",
        "    if current_item.node_no==4:\n",
        "      print(\"yes\")\n",
        "    cur_node_num= current_item.node_no\n",
        "    cur_adj_list=adj_list[cur_node_num]\n",
        "    print(cur_adj_list)\n",
        "\n",
        "\n"
      ],
      "execution_count": null,
      "outputs": [
        {
          "output_type": "stream",
          "text": [
            "0\n",
            "[-1, 1, 4, -1, -1]\n"
          ],
          "name": "stdout"
        }
      ]
    },
    {
      "cell_type": "code",
      "metadata": {
        "colab": {
          "base_uri": "https://localhost:8080/"
        },
        "id": "gEo9gXuAz3QD",
        "outputId": "bdeb819a-7abb-49a9-f1c6-ce408e52c58f"
      },
      "source": [
        "\n",
        "init_node=Node(0,-1,0,7)\n",
        "n_queue=PriorityQueue()\n",
        "n_queue.put(init_node)\n",
        "\n",
        "while not n_queue.empty():\n",
        "    current_item = n_queue.get()\n",
        "    print(current_item.node_no)\n",
        "    if current_item.node_no==4:\n",
        "      print_details(current_item)\n",
        "      break\n",
        "      \n",
        "    cur_node_num= current_item.node_no\n",
        "    cur_adj_list=adj_list[cur_node_num]\n",
        "    print(cur_adj_list)\n",
        "    n_count=0\n",
        "    for x in cur_adj_list:\n",
        "      \n",
        "      \n",
        "      NObnew=Node(0,0,0,0)\n",
        "      \n",
        "      NObnew.node_no=n_count\n",
        "      NObnew.prev_node=current_item\n",
        "      NObnew.act_cost_gn=current_item.act_cost_gn + x\n",
        "      NObnew.total_cost_fn=NObnew.act_cost_gn + heur_val[n_count]\n",
        "      n_queue.put(NObnew)\n",
        "      n_count=n_count+1\n",
        "      \n",
        "\n",
        "\n",
        "\n",
        "\n"
      ],
      "execution_count": null,
      "outputs": [
        {
          "output_type": "stream",
          "text": [
            "0\n",
            "[-1, 1, 4, -1, -1]\n",
            "4\n",
            "Minimum Cost :  -1\n",
            "Path is : SD\n"
          ],
          "name": "stdout"
        }
      ]
    },
    {
      "cell_type": "code",
      "metadata": {
        "colab": {
          "base_uri": "https://localhost:8080/"
        },
        "id": "Y78DRyCYxWwK",
        "outputId": "dde632d7-ff86-46a9-813a-5b160508ab8c"
      },
      "source": [
        "from queue import PriorityQueue   #import priority queue\n",
        "\n",
        "\n",
        "node_map={0:'S',1:'A',2:'B',3:'C',4:'D'}   #declare the path name into number for easyiness\n",
        "\n",
        "\n",
        "adj_list=[[-1,1,4,-1,-1],[-1,-1,2,5,12],[-1,-1,-1,2,-1],[-1,-1,-1,-1,3],[-1,-1,-1,-1,-1]]       #list of list -1 where no ajecent and others value adjacent node value\n",
        "\n",
        "heur_val=[7,6,2,1,0]     #heauristic value \n",
        "\n",
        "class Node:      #declare node class for creating object\n",
        "\n",
        "  def __init__(self,node_no,prev_node,act_cost_gn,total_cost_fn):\n",
        "    self.node_no=node_no\n",
        "    self.prev_node=prev_node\n",
        "    self.act_cost_gn=act_cost_gn\n",
        "    self.total_cost_fn=total_cost_fn\n",
        "  def __lt__(self, other):\n",
        "        return self.total_cost_fn < other.total_cost_fn  #__lt__ mean less than and return only the value which total cost value is the lowest\n",
        "\n",
        "#print path \n",
        "def print_details(current_item):    #pass current item\n",
        "    print(\"Minimum Cost : \",current_item.act_cost_gn)  #current item actual g(n) cost .. current item is the destination item\n",
        "    desired_path=''  #list for storing the path\n",
        "    path_name = node_map[current_item.node_no] #it will give correspending path name of current node number from the dictionary we created first\n",
        "    desired_path +=path_name  #insert path name in the list\n",
        "    while current_item.prev_node != -1:  # loop will run till no previous node or till null means -1\n",
        "        current_item=current_item.prev_node\n",
        "        path_name = node_map[current_item.node_no]\n",
        "        desired_path +=path_name\n",
        "    print(\"Path is :\",desired_path[::-1] )  #::-1 will print path from the last beacuse in list will DCBAS because last node was destination node\n",
        "          \n",
        "init_node=Node(0,-1,0,7)   #declaring inital node means source node no =0,previous node=null/-1, actual cost=0 , f(n)=g(n)+h(n)=0+7\n",
        "n_queue=PriorityQueue()  #declaring a priority queue through library and initialy queue is empty\n",
        "n_queue.put(init_node)  #insert the node into queue \n",
        "\n",
        "while not n_queue.empty():\n",
        "    current_item = n_queue.get()    #get the current item from queue\n",
        "    print(current_item.node_no)\n",
        "    if current_item.node_no==4:   # our destination node number is 4 if our current node number is 4 then we reached the destination\n",
        "      print_details(current_item)   # print the path\n",
        "      break\n",
        "    cur_node_num= current_item.node_no  #current node number\n",
        "    cur_adj_list=adj_list[cur_node_num]   #list of neighbour nood for the current node number in list\n",
        "    print(cur_adj_list)\n",
        "    n_count=0   # indicate current node number in  adjency list\n",
        "    for x in cur_adj_list:\n",
        "      if x == -1:   #means no adjacent\n",
        "        n_count+=1\n",
        "        continue\n",
        "      NObnew=Node(0,0,0,0)  #create new object \n",
        "      NObnew.node_no=n_count  #next neighbour node number suppose current node N and next node M\n",
        "      NObnew.prev_node=current_item  #in previous node of new next node we give current item \n",
        "      NObnew.act_cost_gn=current_item.act_cost_gn + x   #g(n)=previous node cost + current node cost , x gives cost of neigbour node from the list\n",
        "      NObnew.total_cost_fn=NObnew.act_cost_gn + heur_val[n_count]   #f(n)= g(n) + h(n)\n",
        "      n_queue.put(NObnew)  #insert new object into queue\n",
        "      n_count+=1   #increase node number inside the adjency list\n"
      ],
      "execution_count": null,
      "outputs": [
        {
          "output_type": "stream",
          "text": [
            "0\n",
            "[-1, 1, 4, -1, -1]\n",
            "2\n",
            "[-1, -1, -1, 2, -1]\n",
            "1\n",
            "[-1, -1, 2, 5, 12]\n",
            "2\n",
            "[-1, -1, -1, 2, -1]\n",
            "3\n",
            "[-1, -1, -1, -1, 3]\n",
            "3\n",
            "[-1, -1, -1, -1, 3]\n",
            "3\n",
            "[-1, -1, -1, -1, 3]\n",
            "4\n",
            "Minimum Cost :  8\n",
            "Path is : SABCD\n"
          ],
          "name": "stdout"
        }
      ]
    },
    {
      "cell_type": "code",
      "metadata": {
        "id": "5Rt88rGn7mLx"
      },
      "source": [
        ""
      ],
      "execution_count": null,
      "outputs": []
    }
  ]
}